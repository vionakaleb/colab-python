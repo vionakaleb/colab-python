{
  "nbformat": 4,
  "nbformat_minor": 0,
  "metadata": {
    "colab": {
      "provenance": [],
      "authorship_tag": "ABX9TyMBy7Zi/08AcDHiNVLQeISJ",
      "include_colab_link": true
    },
    "kernelspec": {
      "name": "python3",
      "display_name": "Python 3"
    },
    "language_info": {
      "name": "python"
    }
  },
  "cells": [
    {
      "cell_type": "markdown",
      "metadata": {
        "id": "view-in-github",
        "colab_type": "text"
      },
      "source": [
        "<a href=\"https://colab.research.google.com/github/vionakaleb/colab-python/blob/main/Traffic_Prediction_Dataset.ipynb\" target=\"_parent\"><img src=\"https://colab.research.google.com/assets/colab-badge.svg\" alt=\"Open In Colab\"/></a>"
      ]
    },
    {
      "cell_type": "code",
      "execution_count": null,
      "metadata": {
        "colab": {
          "base_uri": "https://localhost:8080/"
        },
        "id": "kUPZewtraaHY",
        "outputId": "98c02757-074d-45a0-f207-94e6f39ee2e2"
      },
      "outputs": [
        {
          "output_type": "stream",
          "name": "stdout",
          "text": [
            "              DateTime  Junction  Vehicles           ID\n",
            "0  2015-11-01 00:00:00         1        15  20151101001\n",
            "1  2015-11-01 01:00:00         1        13  20151101011\n",
            "2  2015-11-01 02:00:00         1        10  20151101021\n",
            "3  2015-11-01 03:00:00         1         7  20151101031\n",
            "4  2015-11-01 04:00:00         1         9  20151101041\n"
          ]
        }
      ],
      "source": [
        "import numpy as np\n",
        "import pandas as pd\n",
        "from sklearn.model_selection import train_test_split\n",
        "from sklearn.preprocessing import MinMaxScaler\n",
        "from sklearn.metrics import mean_squared_error\n",
        "from keras.models import Sequential\n",
        "from keras.layers import LSTM, Dense\n",
        "import matplotlib.pyplot as plt\n",
        "\n",
        "# Load the dataset (assuming 'data' is a DataFrame)\n",
        "# Preprocess the data as needed\n",
        "# Load the dataset\n",
        "data = pd.read_csv('traffic.csv')\n",
        "\n",
        "# Display first rows\n",
        "print(data.head())\n"
      ]
    },
    {
      "cell_type": "code",
      "source": [
        "# Replace '?' with NaN\n",
        "data.replace('?', np.nan, inplace=True)\n",
        "\n",
        "# Drop rows with missing values\n",
        "data.dropna(inplace=True)\n",
        "\n",
        "data['DateTime'] = pd.to_datetime(data['DateTime'], errors='coerce')\n",
        "\n",
        "# Feature engineering\n",
        "data['Hour'] = data['DateTime'].dt.hour\n",
        "data['DayOfWeek'] = data['DateTime'].dt.dayofweek\n",
        "data['Month'] = data['DateTime'].dt.month"
      ],
      "metadata": {
        "id": "kq3f2kKDeh1t"
      },
      "execution_count": null,
      "outputs": []
    },
    {
      "cell_type": "code",
      "source": [
        "print(data, 'data')\n",
        "\n",
        "# Select features and target variable\n",
        "features = ['Hour', 'DayOfWeek', 'Month']\n",
        "target = ['Vehicles']\n",
        "\n",
        "# Scale the features and target variable\n",
        "scaler = MinMaxScaler()\n",
        "data[features + target] = scaler.fit_transform(data[features + target])"
      ],
      "metadata": {
        "id": "-s5Va5Kmen9a",
        "colab": {
          "base_uri": "https://localhost:8080/"
        },
        "outputId": "2073ce3f-3db4-435e-b2a3-f8d13eb94ae4"
      },
      "execution_count": null,
      "outputs": [
        {
          "output_type": "stream",
          "name": "stdout",
          "text": [
            "                 DateTime  Junction  Vehicles           ID  Hour  DayOfWeek  \\\n",
            "0     2015-11-01 00:00:00         1        15  20151101001     0          6   \n",
            "1     2015-11-01 01:00:00         1        13  20151101011     1          6   \n",
            "2     2015-11-01 02:00:00         1        10  20151101021     2          6   \n",
            "3     2015-11-01 03:00:00         1         7  20151101031     3          6   \n",
            "4     2015-11-01 04:00:00         1         9  20151101041     4          6   \n",
            "...                   ...       ...       ...          ...   ...        ...   \n",
            "48115 2017-06-30 19:00:00         4        11  20170630194    19          4   \n",
            "48116 2017-06-30 20:00:00         4        30  20170630204    20          4   \n",
            "48117 2017-06-30 21:00:00         4        16  20170630214    21          4   \n",
            "48118 2017-06-30 22:00:00         4        22  20170630224    22          4   \n",
            "48119 2017-06-30 23:00:00         4        12  20170630234    23          4   \n",
            "\n",
            "       Month  \n",
            "0         11  \n",
            "1         11  \n",
            "2         11  \n",
            "3         11  \n",
            "4         11  \n",
            "...      ...  \n",
            "48115      6  \n",
            "48116      6  \n",
            "48117      6  \n",
            "48118      6  \n",
            "48119      6  \n",
            "\n",
            "[48120 rows x 7 columns] data\n"
          ]
        }
      ]
    },
    {
      "cell_type": "code",
      "source": [
        "# Split the dataset into training and testing sets\n",
        "train_size = int(0.8 * len(data))\n",
        "train, test = data[:train_size], data[train_size:]\n",
        "\n",
        "X_train, y_train = train[features], train[target]\n",
        "X_test, y_test = test[features], test[target]\n",
        "\n",
        "# Reshape data for LSTM input\n",
        "X_train = X_train.values.reshape((X_train.shape[0], 1, X_train.shape[1]))\n",
        "X_test = X_test.values.reshape((X_test.shape[0], 1, X_test.shape[1]))\n",
        "print(X_train)"
      ],
      "metadata": {
        "colab": {
          "base_uri": "https://localhost:8080/"
        },
        "id": "6sJ7ujfreqXL",
        "outputId": "0b0faf69-c4a0-4a35-9592-96221537f3ff"
      },
      "execution_count": null,
      "outputs": [
        {
          "output_type": "stream",
          "name": "stdout",
          "text": [
            "[[[0.         1.         0.90909091]]\n",
            "\n",
            " [[0.04347826 1.         0.90909091]]\n",
            "\n",
            " [[0.08695652 1.         0.90909091]]\n",
            "\n",
            " ...\n",
            "\n",
            " [[0.91304348 0.16666667 0.90909091]]\n",
            "\n",
            " [[0.95652174 0.16666667 0.90909091]]\n",
            "\n",
            " [[1.         0.16666667 0.90909091]]]\n"
          ]
        }
      ]
    },
    {
      "cell_type": "code",
      "source": [
        "# Build the LSTM model\n",
        "model = Sequential()\n",
        "model.add(LSTM(100, activation='relu', input_shape=(X_train.shape[1], X_train.shape[2])))\n",
        "model.add(Dense(1))\n",
        "model.compile(optimizer='adam', loss='mean_squared_error', metrics=['accuracy'])\n",
        "\n",
        "# Train the model\n",
        "model.fit(X_train, y_train, epochs=20, batch_size=32, validation_data=(X_test, y_test))"
      ],
      "metadata": {
        "colab": {
          "base_uri": "https://localhost:8080/"
        },
        "id": "C687kBWzeugy",
        "outputId": "28ab9ccc-55aa-437d-b133-59fc9a568fef"
      },
      "execution_count": null,
      "outputs": [
        {
          "output_type": "stream",
          "name": "stdout",
          "text": [
            "Epoch 1/20\n",
            "1203/1203 [==============================] - 6s 3ms/step - loss: 0.0138 - accuracy: 0.0024 - val_loss: 0.0104 - val_accuracy: 0.0058\n",
            "Epoch 2/20\n",
            "1203/1203 [==============================] - 3s 3ms/step - loss: 0.0133 - accuracy: 0.0024 - val_loss: 0.0102 - val_accuracy: 0.0058\n",
            "Epoch 3/20\n",
            "1203/1203 [==============================] - 4s 3ms/step - loss: 0.0132 - accuracy: 0.0024 - val_loss: 0.0093 - val_accuracy: 0.0058\n",
            "Epoch 4/20\n",
            "1203/1203 [==============================] - 4s 3ms/step - loss: 0.0131 - accuracy: 0.0024 - val_loss: 0.0107 - val_accuracy: 0.0058\n",
            "Epoch 5/20\n",
            "1203/1203 [==============================] - 3s 3ms/step - loss: 0.0130 - accuracy: 0.0024 - val_loss: 0.0083 - val_accuracy: 0.0058\n",
            "Epoch 6/20\n",
            "1203/1203 [==============================] - 4s 3ms/step - loss: 0.0130 - accuracy: 0.0024 - val_loss: 0.0104 - val_accuracy: 0.0058\n",
            "Epoch 7/20\n",
            "1203/1203 [==============================] - 5s 4ms/step - loss: 0.0130 - accuracy: 0.0024 - val_loss: 0.0106 - val_accuracy: 0.0058\n",
            "Epoch 8/20\n",
            "1203/1203 [==============================] - 4s 3ms/step - loss: 0.0130 - accuracy: 0.0024 - val_loss: 0.0080 - val_accuracy: 0.0058\n",
            "Epoch 9/20\n",
            "1203/1203 [==============================] - 3s 3ms/step - loss: 0.0130 - accuracy: 0.0024 - val_loss: 0.0098 - val_accuracy: 0.0058\n",
            "Epoch 10/20\n",
            "1203/1203 [==============================] - 5s 4ms/step - loss: 0.0130 - accuracy: 0.0024 - val_loss: 0.0107 - val_accuracy: 0.0058\n",
            "Epoch 11/20\n",
            "1203/1203 [==============================] - 7s 6ms/step - loss: 0.0130 - accuracy: 0.0024 - val_loss: 0.0095 - val_accuracy: 0.0058\n",
            "Epoch 12/20\n",
            "1203/1203 [==============================] - 9s 8ms/step - loss: 0.0130 - accuracy: 0.0024 - val_loss: 0.0096 - val_accuracy: 0.0058\n",
            "Epoch 13/20\n",
            "1203/1203 [==============================] - 4s 4ms/step - loss: 0.0129 - accuracy: 0.0024 - val_loss: 0.0102 - val_accuracy: 0.0058\n",
            "Epoch 14/20\n",
            "1203/1203 [==============================] - 5s 4ms/step - loss: 0.0130 - accuracy: 0.0024 - val_loss: 0.0102 - val_accuracy: 0.0058\n",
            "Epoch 15/20\n",
            "1203/1203 [==============================] - 4s 3ms/step - loss: 0.0129 - accuracy: 0.0024 - val_loss: 0.0073 - val_accuracy: 0.0058\n",
            "Epoch 16/20\n",
            "1203/1203 [==============================] - 3s 3ms/step - loss: 0.0129 - accuracy: 0.0024 - val_loss: 0.0103 - val_accuracy: 0.0058\n",
            "Epoch 17/20\n",
            "1203/1203 [==============================] - 4s 4ms/step - loss: 0.0129 - accuracy: 0.0024 - val_loss: 0.0123 - val_accuracy: 0.0058\n",
            "Epoch 18/20\n",
            "1203/1203 [==============================] - 4s 3ms/step - loss: 0.0129 - accuracy: 0.0024 - val_loss: 0.0112 - val_accuracy: 0.0058\n",
            "Epoch 19/20\n",
            "1203/1203 [==============================] - 3s 3ms/step - loss: 0.0129 - accuracy: 0.0024 - val_loss: 0.0107 - val_accuracy: 0.0058\n",
            "Epoch 20/20\n",
            "1203/1203 [==============================] - 4s 3ms/step - loss: 0.0129 - accuracy: 0.0024 - val_loss: 0.0104 - val_accuracy: 0.0058\n"
          ]
        },
        {
          "output_type": "execute_result",
          "data": {
            "text/plain": [
              "<keras.src.callbacks.History at 0x7a21a376ef80>"
            ]
          },
          "metadata": {},
          "execution_count": 6
        }
      ]
    },
    {
      "cell_type": "code",
      "source": [
        "# Predict using the trained model\n",
        "p = model.predict(X_test)\n",
        "\n",
        "scores = model.evaluate(X_test,y_test)\n",
        "print(\"%s: %.2f%%\" % (model.metrics_names[1], scores[1]*100))\n",
        "row = \"| {no:<4d} [ {p1:.2f} {p2:.2f} ] [ {r1:.2f} {r2:.2f} ]\".format\n",
        "for i in range(len(x)):\n",
        "    print(row(no=i, p1=p[i,0], p2=p[i,1], r1=y[i,0], r2=y[i,1])) #80-95%\n",
        "\n",
        "# Inverse transform the predictions to the original scale\n",
        "p = scaler.inverse_transform(p)"
      ],
      "metadata": {
        "colab": {
          "base_uri": "https://localhost:8080/"
        },
        "id": "qAeNAwllezOe",
        "outputId": "a2b29869-04a2-472c-cbc2-dbcf15d9f85c"
      },
      "execution_count": null,
      "outputs": [
        {
          "output_type": "stream",
          "name": "stdout",
          "text": [
            "301/301 [==============================] - 2s 5ms/step\n",
            "[[0.13794884]\n",
            " [0.1195032 ]\n",
            " [0.10865752]\n",
            " ...\n",
            " [0.20394182]\n",
            " [0.20468116]\n",
            " [0.20332852]]\n"
          ]
        }
      ]
    },
    {
      "cell_type": "code",
      "source": [
        "# Visualize the model\n",
        "plt.scatter(y_test, p)\n",
        "plt.xlabel('DateTime')\n",
        "plt.ylabel('Vehicles')\n",
        "plt.title('DateTime vs. Vehicles')\n",
        "plt.show()"
      ],
      "metadata": {
        "colab": {
          "base_uri": "https://localhost:8080/",
          "height": 472
        },
        "id": "x4qeG7ZonpJR",
        "outputId": "498498f6-33ca-426a-95ed-999ad0630eb3"
      },
      "execution_count": null,
      "outputs": [
        {
          "output_type": "display_data",
          "data": {
            "text/plain": [
              "<Figure size 640x480 with 1 Axes>"
            ],
            "image/png": "[encoded data removed]"
          },
          "metadata": {}
        }
      ]
    },
    {
      "cell_type": "code",
      "source": [
        "model.summary()"
      ],
      "metadata": {
        "id": "E1u7b5wM-bMl"
      },
      "execution_count": null,
      "outputs": []
    }
  ]
}